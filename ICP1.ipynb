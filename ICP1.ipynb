{
  "nbformat": 4,
  "nbformat_minor": 0,
  "metadata": {
    "colab": {
      "provenance": []
    },
    "kernelspec": {
      "name": "python3",
      "display_name": "Python 3"
    },
    "language_info": {
      "name": "python"
    }
  },
  "cells": [
    {
      "cell_type": "code",
      "execution_count": 8,
      "metadata": {
        "colab": {
          "base_uri": "https://localhost:8080/"
        },
        "id": "ZZjDJzaHHsNh",
        "outputId": "4dccdfd9-3954-4fbe-db6d-6435158afacd"
      },
      "outputs": [
        {
          "output_type": "stream",
          "name": "stdout",
          "text": [
            "Your first name: Good\n",
            "Your last name: evening\n",
            "Your full name : Good evening\n",
            "Go vnn\n"
          ]
        }
      ],
      "source": [
        "def string_alternative(full_name):\n",
        "  alternate_name = \"\"\n",
        "  for i in range(len(full_name)):\n",
        "    if(i%2==0):\n",
        "      alternate_name += full_name[i]\n",
        "  return alternate_name\n",
        "\n",
        "first_name = input(\"Your first name: \").strip()\n",
        "last_name = input(\"Your last name: \").strip()\n",
        "full_name = first_name + \" \" + last_name\n",
        "print(\"Your full name :\",full_name)\n",
        "print(string_alternative(full_name))"
      ]
    },
    {
      "cell_type": "code",
      "source": [
        "from collections import Counter\n",
        "\n",
        "def process_file_lines(input_file):\n",
        "    \"\"\"Read and process lines from the file.\"\"\"\n",
        "    with open(input_file, 'r') as file:\n",
        "        lines = file.readlines()  # Read all lines into a list\n",
        "        # Strip newline characters and process each line\n",
        "        processed_lines = [line.strip() for line in lines]\n",
        "    return processed_lines\n",
        "\n",
        "def count_words(lines):\n",
        "    \"\"\"Count the occurrences of each word in the lines.\"\"\"\n",
        "    words = []\n",
        "    for line in lines:\n",
        "        words.extend(line.split())  # Split each line into words and add to the list\n",
        "    return Counter(words)  # Count occurrences of each word\n",
        "\n",
        "def write_output(output_file, lines, word_counts):\n",
        "    \"\"\"Write the processed lines and word counts to an output file.\"\"\"\n",
        "    with open(output_file, 'w') as file:\n",
        "        for line in lines:\n",
        "            file.write(line + '\\n')\n",
        "        file.write(\"\\nWord_Count:\\n\")\n",
        "        for word, count in word_counts.items():\n",
        "            file.write(f\"{word}: {count}\\n\")\n",
        "\n",
        "def main():\n",
        "    input_file = \"/content/drive/MyDrive/input.txt\"\n",
        "    output_file = \"/content/drive/MyDrive/output.txt\"\n",
        "\n",
        "    # Process the input file\n",
        "    processed_lines = process_file_lines(input_file)\n",
        "\n",
        "    # Count word occurrences\n",
        "    word_counts = count_words(processed_lines)\n",
        "\n",
        "    # Print the results\n",
        "    print(\"Processed lines from the file:\")\n",
        "    for line in processed_lines:\n",
        "        print(line)\n",
        "\n",
        "    print(\"\\nWord_Count:\")\n",
        "    for word, count in word_counts.items():\n",
        "        print(f\"{word}: {count}\")\n",
        "\n",
        "    # Write the results to the output file\n",
        "    write_output(output_file, processed_lines, word_counts)\n",
        "    print(f\"\\nOutput written to {output_file}\")\n",
        "\n",
        "if __name__ == \"__main__\":\n",
        "    main()\n"
      ],
      "metadata": {
        "colab": {
          "base_uri": "https://localhost:8080/"
        },
        "id": "awAXAPqOeyRc",
        "outputId": "8d507ac9-1cbe-4af5-bf8e-152a7ac3d5e2"
      },
      "execution_count": 58,
      "outputs": [
        {
          "output_type": "stream",
          "name": "stdout",
          "text": [
            "Processed lines from the file:\n",
            "Python Course\n",
            "Deep Learning Course\n",
            "\n",
            "Word_Count:\n",
            "Python: 1\n",
            "Course: 2\n",
            "Deep: 1\n",
            "Learning: 1\n",
            "\n",
            "Output written to /content/drive/MyDrive/output.txt\n"
          ]
        }
      ]
    },
    {
      "cell_type": "code",
      "source": [
        "def convert_inchToCm(list1):\n",
        "  list2 = []\n",
        "  for i in list1:\n",
        "    list2.append(round(i * 2.54, 2))\n",
        "  return list2\n",
        "\n",
        "l1 = list(map(int,input(\"Heights (inches.) of customers : \").split()))\n",
        "print(convert_inchToCm(l1))"
      ],
      "metadata": {
        "colab": {
          "base_uri": "https://localhost:8080/"
        },
        "id": "SHb2J3mOhcd5",
        "outputId": "78f887af-8313-481f-825c-70f5b856d770"
      },
      "execution_count": 60,
      "outputs": [
        {
          "output_type": "stream",
          "name": "stdout",
          "text": [
            "Heights (inches.) of customers : 150 155 145 148\n",
            "[381.0, 393.7, 368.3, 375.92]\n"
          ]
        }
      ]
    }
  ]
}